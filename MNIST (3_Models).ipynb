{
 "cells": [
  {
   "cell_type": "code",
   "execution_count": 1,
   "id": "39416117",
   "metadata": {},
   "outputs": [],
   "source": [
    "from keras.datasets import mnist\n",
    "from tensorflow.keras.layers import Dense\n",
    "from keras import layers\n",
    "from keras.utils import to_categorical\n",
    "from tensorflow.keras.models import *\n",
    "from tensorflow.keras import Input"
   ]
  },
  {
   "cell_type": "code",
   "execution_count": 2,
   "id": "971b83e7",
   "metadata": {},
   "outputs": [],
   "source": [
    "(train_images, train_labels), (test_images, test_labels) = mnist.load_data()"
   ]
  },
  {
   "cell_type": "markdown",
   "id": "1868de95",
   "metadata": {},
   "source": [
    "### Training data details"
   ]
  },
  {
   "cell_type": "code",
   "execution_count": 3,
   "id": "955f559e",
   "metadata": {},
   "outputs": [
    {
     "data": {
      "text/plain": [
       "(60000, 28, 28)"
      ]
     },
     "execution_count": 3,
     "metadata": {},
     "output_type": "execute_result"
    }
   ],
   "source": [
    "train_images.shape"
   ]
  },
  {
   "cell_type": "code",
   "execution_count": 4,
   "id": "272bc306",
   "metadata": {},
   "outputs": [
    {
     "data": {
      "text/plain": [
       "60000"
      ]
     },
     "execution_count": 4,
     "metadata": {},
     "output_type": "execute_result"
    }
   ],
   "source": [
    "len(train_labels)"
   ]
  },
  {
   "cell_type": "code",
   "execution_count": 5,
   "id": "1c67258d",
   "metadata": {},
   "outputs": [
    {
     "data": {
      "text/plain": [
       "array([5, 0, 4, ..., 5, 6, 8], dtype=uint8)"
      ]
     },
     "execution_count": 5,
     "metadata": {},
     "output_type": "execute_result"
    }
   ],
   "source": [
    "train_labels"
   ]
  },
  {
   "cell_type": "markdown",
   "id": "311008a0",
   "metadata": {},
   "source": [
    "### Testing data details"
   ]
  },
  {
   "cell_type": "code",
   "execution_count": 6,
   "id": "cd3f78fc",
   "metadata": {},
   "outputs": [
    {
     "data": {
      "text/plain": [
       "(10000, 28, 28)"
      ]
     },
     "execution_count": 6,
     "metadata": {},
     "output_type": "execute_result"
    }
   ],
   "source": [
    "test_images.shape"
   ]
  },
  {
   "cell_type": "code",
   "execution_count": 7,
   "id": "735f6422",
   "metadata": {},
   "outputs": [
    {
     "data": {
      "text/plain": [
       "(10000, 28, 28)"
      ]
     },
     "execution_count": 7,
     "metadata": {},
     "output_type": "execute_result"
    }
   ],
   "source": [
    "test_images.shape"
   ]
  },
  {
   "cell_type": "code",
   "execution_count": 8,
   "id": "5258c9b5",
   "metadata": {},
   "outputs": [
    {
     "data": {
      "text/plain": [
       "(10000, 28, 28)"
      ]
     },
     "execution_count": 8,
     "metadata": {},
     "output_type": "execute_result"
    }
   ],
   "source": [
    "test_images.shape"
   ]
  },
  {
   "cell_type": "markdown",
   "id": "3d9cc4cd",
   "metadata": {},
   "source": [
    "### The network architecture (Using Sequential Model)"
   ]
  },
  {
   "cell_type": "code",
   "execution_count": 9,
   "id": "5767cee0",
   "metadata": {},
   "outputs": [],
   "source": [
    "sequential_model = Sequential()\n",
    "sequential_model.add(layers.Dense(512, activation='relu', input_shape=(28 * 28,)))\n",
    "sequential_model.add(layers.Dense(10, activation='softmax'))"
   ]
  },
  {
   "cell_type": "markdown",
   "id": "53c7c918",
   "metadata": {},
   "source": [
    "### The network architecture (Using Functional Model)"
   ]
  },
  {
   "cell_type": "code",
   "execution_count": 10,
   "id": "c8dccf3d",
   "metadata": {},
   "outputs": [],
   "source": [
    "input_layer = Input(shape=(28 * 28 * 1,))\n",
    "dense_1 = Dense(256, activation='sigmoid')(input_layer)\n",
    "dense_2 = Dense(128, activation='sigmoid')(dense_1)\n",
    "predictions = Dense(10, activation='softmax')(dense_2)\n",
    "functional_model = Model(inputs=input_layer, outputs=predictions)"
   ]
  },
  {
   "cell_type": "markdown",
   "id": "8d3dc413",
   "metadata": {},
   "source": [
    "### The network architecture (Using Class Model)"
   ]
  },
  {
   "cell_type": "code",
   "execution_count": 11,
   "id": "1ea8a3a7",
   "metadata": {},
   "outputs": [],
   "source": [
    "class ClassModel(Model):\n",
    "    def __init__(self):\n",
    "        super(ClassModel, self).__init__()\n",
    "\n",
    "        self.dense_1 = Dense(256, activation='sigmoid')\n",
    "        self.dense_2 = Dense(256, activation='sigmoid')\n",
    "        self.predictions = Dense(10, activation='softmax')\n",
    "\n",
    "    def call(self, inputs, **kwargs):\n",
    "        x = self.dense_1(inputs)\n",
    "        x = self.dense_2(x)\n",
    "\n",
    "        return self.predictions(x)"
   ]
  },
  {
   "cell_type": "code",
   "execution_count": 12,
   "id": "ebaf4f3b",
   "metadata": {},
   "outputs": [],
   "source": [
    "class_model = ClassModel()"
   ]
  },
  {
   "cell_type": "code",
   "execution_count": 13,
   "id": "9669d42f",
   "metadata": {},
   "outputs": [],
   "source": [
    "models=[sequential_model,functional_model,class_model]\n",
    "names=['Sequential_model','Functional_model','Class_model']"
   ]
  },
  {
   "cell_type": "markdown",
   "id": "f001a253",
   "metadata": {},
   "source": [
    "### Preparing the image data "
   ]
  },
  {
   "cell_type": "code",
   "execution_count": 14,
   "id": "dac4818e",
   "metadata": {},
   "outputs": [],
   "source": [
    "train_images = train_images.reshape((60000, 28 * 28))\n",
    "train_images = train_images.astype('float32') / 255\n",
    "test_images = test_images.reshape((10000, 28 * 28))\n",
    "test_images = test_images.astype('float32') / 255"
   ]
  },
  {
   "cell_type": "markdown",
   "id": "e7542cf9",
   "metadata": {},
   "source": [
    "### Preparing the labels "
   ]
  },
  {
   "cell_type": "code",
   "execution_count": 15,
   "id": "57a0d068",
   "metadata": {},
   "outputs": [],
   "source": [
    "train_labels = to_categorical(train_labels)\n",
    "test_labels = to_categorical(test_labels)"
   ]
  },
  {
   "cell_type": "markdown",
   "id": "37919f94",
   "metadata": {},
   "source": [
    "### Training Accuracy"
   ]
  },
  {
   "cell_type": "code",
   "execution_count": 16,
   "id": "b8ce83ec",
   "metadata": {},
   "outputs": [
    {
     "name": "stdout",
     "output_type": "stream",
     "text": [
      "training of Sequential_model  :\n",
      "Epoch 1/5\n",
      "469/469 [==============================] - 3s 5ms/step - loss: 0.2637 - accuracy: 0.9230\n",
      "Epoch 2/5\n",
      "469/469 [==============================] - 2s 5ms/step - loss: 0.1094 - accuracy: 0.9670\n",
      "Epoch 3/5\n",
      "469/469 [==============================] - 2s 5ms/step - loss: 0.0717 - accuracy: 0.9783\n",
      "Epoch 4/5\n",
      "469/469 [==============================] - 2s 5ms/step - loss: 0.0518 - accuracy: 0.9844\n",
      "Epoch 5/5\n",
      "469/469 [==============================] - 2s 5ms/step - loss: 0.0389 - accuracy: 0.9886\n",
      "training of Functional_model  :\n",
      "Epoch 1/5\n",
      "469/469 [==============================] - 2s 3ms/step - loss: 0.6240 - accuracy: 0.8399\n",
      "Epoch 2/5\n",
      "469/469 [==============================] - 1s 3ms/step - loss: 0.2585 - accuracy: 0.9233\n",
      "Epoch 3/5\n",
      "469/469 [==============================] - 1s 3ms/step - loss: 0.2017 - accuracy: 0.9396\n",
      "Epoch 4/5\n",
      "469/469 [==============================] - 1s 3ms/step - loss: 0.1624 - accuracy: 0.9514\n",
      "Epoch 5/5\n",
      "469/469 [==============================] - 1s 3ms/step - loss: 0.1339 - accuracy: 0.9602\n",
      "training of Class_model  :\n",
      "Epoch 1/5\n",
      "469/469 [==============================] - 2s 4ms/step - loss: 0.5951 - accuracy: 0.8361\n",
      "Epoch 2/5\n",
      "469/469 [==============================] - 1s 3ms/step - loss: 0.2541 - accuracy: 0.9238\n",
      "Epoch 3/5\n",
      "469/469 [==============================] - 2s 3ms/step - loss: 0.1946 - accuracy: 0.9421\n",
      "Epoch 4/5\n",
      "469/469 [==============================] - 1s 3ms/step - loss: 0.1547 - accuracy: 0.9538\n",
      "Epoch 5/5\n",
      "469/469 [==============================] - 2s 3ms/step - loss: 0.1267 - accuracy: 0.9622\n"
     ]
    }
   ],
   "source": [
    "i=0\n",
    "for model in models:\n",
    "    \n",
    "    model.compile(optimizer='rmsprop',\n",
    "    loss='categorical_crossentropy',\n",
    "    metrics=['accuracy'])\n",
    "    \n",
    "    print('training of',names[i],' :')\n",
    "    model.fit(train_images, train_labels, epochs=5, batch_size=128)\n",
    "\n",
    "    i=i+1"
   ]
  },
  {
   "cell_type": "markdown",
   "id": "56830f4d",
   "metadata": {},
   "source": [
    "### Testing Accuracy"
   ]
  },
  {
   "cell_type": "code",
   "execution_count": 17,
   "id": "4fab9219",
   "metadata": {},
   "outputs": [
    {
     "name": "stdout",
     "output_type": "stream",
     "text": [
      "313/313 [==============================] - 1s 1ms/step - loss: 0.0605 - accuracy: 0.9810\n",
      "test_accuracy for Sequential_model  : 0.9810000061988831 \n",
      "\n",
      "313/313 [==============================] - 1s 2ms/step - loss: 0.1339 - accuracy: 0.9564\n",
      "test_accuracy for Functional_model  : 0.9563999772071838 \n",
      "\n",
      "313/313 [==============================] - 1s 2ms/step - loss: 0.1235 - accuracy: 0.9612\n",
      "test_accuracy for Class_model  : 0.9611999988555908 \n",
      "\n"
     ]
    }
   ],
   "source": [
    "i=0\n",
    "for model in models:\n",
    "    \n",
    "    est_loss, test_acc = model.evaluate(test_images, test_labels)\n",
    "    print('test_accuracy for',names[i],' :', test_acc,'\\n')\n",
    "    \n",
    "    i=i+1"
   ]
  },
  {
   "cell_type": "code",
   "execution_count": null,
   "id": "68273816",
   "metadata": {},
   "outputs": [],
   "source": []
  }
 ],
 "metadata": {
  "kernelspec": {
   "display_name": "Python 3",
   "language": "python",
   "name": "python3"
  },
  "language_info": {
   "codemirror_mode": {
    "name": "ipython",
    "version": 3
   },
   "file_extension": ".py",
   "mimetype": "text/x-python",
   "name": "python",
   "nbconvert_exporter": "python",
   "pygments_lexer": "ipython3",
   "version": "3.8.8"
  }
 },
 "nbformat": 4,
 "nbformat_minor": 5
}
